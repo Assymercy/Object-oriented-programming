{
 "cells": [
  {
   "cell_type": "code",
   "execution_count": 10,
   "id": "d6d7c568",
   "metadata": {},
   "outputs": [
    {
     "name": "stdout",
     "output_type": "stream",
     "text": [
      "Phone is booting up\n",
      "Tablet is powering on\n",
      "Smartphone is starting up\n",
      "Photo taken\n",
      "Connected to WiFi\n",
      "Smartprinter is starting up\n",
      "Connected to WiFi\n"
     ]
    }
   ],
   "source": [
    "class Gadget:\n",
    "    def start(self):\n",
    "        print(\"Gadget started\")\n",
    "\n",
    "class Phone(Gadget):\n",
    "    def start(self):\n",
    "        print(\"Phone is booting up\")\n",
    "        \n",
    "\n",
    "class Tablet(Gadget):\n",
    "    def start(self):\n",
    "        print(\"Tablet is powering on\")\n",
    "\n",
    "gadgets = [Phone(), Tablet()]\n",
    "for gadget in gadgets:\n",
    "    gadget.start()\n",
    "\n",
    "class Camera:\n",
    "    def take_photo(self):\n",
    "        print(\"Photo taken\")\n",
    "\n",
    "class Wifienabled:\n",
    "    def connect_wifi(self):\n",
    "        print(f\"Connected to WiFi\")\n",
    "\n",
    "\n",
    "class SmartPhone(Phone,Camera, Wifienabled):\n",
    "    def start(self):\n",
    "        print(\"Smartphone is starting up\")\n",
    "\n",
    "\n",
    "class Smartprinter(Phone , Wifienabled):\n",
    "    def start(self):\n",
    "        print(\"Smartprinter is starting up\")\n",
    "\n",
    "\n",
    "\n",
    "devices = [SmartPhone(), Smartprinter()]\n",
    "for device in devices:\n",
    "       device.start()\n",
    "       if isinstance(device, Camera):\n",
    "           device.take_photo()\n",
    "       if isinstance(device, Wifienabled): \n",
    "           device.connect_wifi()       \n",
    "\n",
    "\n",
    "\n",
    "\n",
    "\n",
    "        "
   ]
  },
  {
   "cell_type": "code",
   "execution_count": 19,
   "id": "da2a8c7e",
   "metadata": {},
   "outputs": [
    {
     "name": "stdout",
     "output_type": "stream",
     "text": [
      "Hello from Bridget\n"
     ]
    }
   ],
   "source": [
    "class Alpha:\n",
    "    def greet(self):\n",
    "        print(\"Hello from Alpha\")\n",
    "\n",
    "class Bridget(Alpha):\n",
    "    def greet(self):\n",
    "        print(\"Hello from Bridget\")\n",
    "\n",
    "class Cris(Alpha):\n",
    "    def greet(self):\n",
    "        print(\"Hello from C\")\n",
    "\n",
    "class Dorah(Bridget, Cris):\n",
    "    pass\n",
    "\n",
    "a = Dorah()\n",
    "a.greet()\n",
    "\n",
    "\n",
    "\n",
    "\n"
   ]
  },
  {
   "cell_type": "code",
   "execution_count": 20,
   "id": "9b69a401",
   "metadata": {},
   "outputs": [
    {
     "name": "stdout",
     "output_type": "stream",
     "text": [
      "B: The shuttle will arrive in 10 minutes\n"
     ]
    }
   ],
   "source": [
    "class anounceA:\n",
    "    def announce(self):\n",
    "        return \"A: Generic campus transportation update\"\n",
    "    \n",
    "class anounceB(anounceA):\n",
    "    def announce(self):\n",
    "        return \"B: The shuttle will arrive in 10 minutes\"\n",
    "class anounceC(anounceA):\n",
    "    def announce(self):\n",
    "        return \"C: The campus bus is delayed due to traffic\" \n",
    "class anounceD(anounceB, anounceC):\n",
    "    pass\n",
    "d = anounceD()\n",
    "print(d.announce())            "
   ]
  }
 ],
 "metadata": {
  "kernelspec": {
   "display_name": "Python 3",
   "language": "python",
   "name": "python3"
  },
  "language_info": {
   "codemirror_mode": {
    "name": "ipython",
    "version": 3
   },
   "file_extension": ".py",
   "mimetype": "text/x-python",
   "name": "python",
   "nbconvert_exporter": "python",
   "pygments_lexer": "ipython3",
   "version": "3.13.9"
  }
 },
 "nbformat": 4,
 "nbformat_minor": 5
}

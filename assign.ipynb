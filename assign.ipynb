{
 "cells": [
  {
   "cell_type": "code",
   "execution_count": null,
   "id": "69a325cb",
   "metadata": {},
   "outputs": [
    {
     "name": "stdout",
     "output_type": "stream",
     "text": [
      "Alice's salary is: $3000\n",
      "Bob's salary is: $1600\n",
      "Charlie's salary is: $500\n"
     ]
    }
   ],
   "source": [
    "#qn 1\n",
    "class Employee:\n",
    "    def __init__(self, name):\n",
    "        self.name = name\n",
    "\n",
    "    def calculate_salary(self):\n",
    "        raise NotImplementedError(\"Subclass must implement abstract method\")\n",
    "\n",
    "class FullTime(Employee):\n",
    "    def __init__(self, name, monthly_salary):\n",
    "        super().__init__(name)\n",
    "        self.monthly_salary = monthly_salary\n",
    "  \n",
    "    def calculate_salary(self):\n",
    "        return self.monthly_salary\n",
    "\n",
    "class PartTime(Employee):\n",
    "    def __init__(self, name, hourly_rate, hours_worked):\n",
    "        super().__init__(name)\n",
    "        self.hourly_rate = hourly_rate\n",
    "        self.hours_worked = hours_worked\n",
    "\n",
    "    def calculate_salary(self):\n",
    "        return self.hourly_rate * self.hours_worked\n",
    "\n",
    "class Intern(Employee):\n",
    "    def __init__(self, name, stipend):\n",
    "        super().__init__(name)\n",
    "        self.stipend = stipend\n",
    "\n",
    "    def calculate_salary(self):\n",
    "        return self.stipend\n",
    "\n",
    "# Polymorphism in action\n",
    "employees = [\n",
    "    FullTime(\"Alice\", 3000),\n",
    "    PartTime(\"Bob\", 20, 80),\n",
    "    Intern(\"Charlie\", 500)\n",
    "]\n",
    "\n",
    "for emp in employees:\n",
    "    print(f\"{emp.name}'s salary is: ${emp.calculate_salary()}\")\n",
    "\n"
   ]
  },
  {
   "cell_type": "code",
   "execution_count": 2,
   "id": "8e6fad83",
   "metadata": {},
   "outputs": [
    {
     "name": "stdout",
     "output_type": "stream",
     "text": [
      "Candidate: Diana\n",
      "Party: Unity Party\n",
      "Slogan: \"Together we rise!\"\n",
      "\n",
      "Candidate: Elijah\n",
      "Party: Freedom Front\n",
      "Slogan: \"Liberty for all!\"\n",
      "\n",
      "Candidate: Fatima\n",
      "Party: Green Future\n",
      "Slogan: \"Sustain today, thrive tomorrow!\"\n",
      "\n"
     ]
    }
   ],
   "source": [
    "#qn2\n",
    "class PoliticalParty:\n",
    "    def __init__(self, name):\n",
    "        self.name = name\n",
    "\n",
    "class Candidate(PoliticalParty):\n",
    "    def __init__(self, party_name, candidate_name, slogan):\n",
    "        super().__init__(party_name)\n",
    "        self.candidate_name = candidate_name\n",
    "        self.slogan = slogan\n",
    "\n",
    "    def display_info(self):\n",
    "        print(f\"Candidate: {self.candidate_name}\")\n",
    "        print(f\"Party: {self.name}\")\n",
    "        print(f\"Slogan: \\\"{self.slogan}\\\"\\n\")\n",
    "\n",
    "# Creating candidates\n",
    "candidate1 = Candidate(\"Unity Party\", \"Diana\", \"Together we rise!\")\n",
    "candidate2 = Candidate(\"Freedom Front\", \"Elijah\", \"Liberty for all!\")\n",
    "candidate3 = Candidate(\"Green Future\", \"Fatima\", \"Sustain today, thrive tomorrow!\")\n",
    "\n",
    "# Displaying info\n",
    "candidate1.display_info()\n",
    "candidate2.display_info()\n",
    "candidate3.display_info()\n",
    "\n",
    "  "
   ]
  }
 ],
 "metadata": {
  "kernelspec": {
   "display_name": "Python 3",
   "language": "python",
   "name": "python3"
  },
  "language_info": {
   "codemirror_mode": {
    "name": "ipython",
    "version": 3
   },
   "file_extension": ".py",
   "mimetype": "text/x-python",
   "name": "python",
   "nbconvert_exporter": "python",
   "pygments_lexer": "ipython3",
   "version": "3.13.9"
  }
 },
 "nbformat": 4,
 "nbformat_minor": 5
}
